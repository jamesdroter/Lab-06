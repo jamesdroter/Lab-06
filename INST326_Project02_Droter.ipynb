{
 "cells": [
  {
   "cell_type": "markdown",
   "id": "bc00dbc1",
   "metadata": {},
   "source": [
    "### Project 02: Create a GUI Notebook Program"
   ]
  },
  {
   "cell_type": "markdown",
   "id": "b3f87ffb",
   "metadata": {},
   "source": [
    "James Droter 3/31/2024"
   ]
  },
  {
   "cell_type": "markdown",
   "id": "62110c98",
   "metadata": {},
   "source": [
    "Project 2 will adapt the procedural code we have been working on in INST326_SimpleGUI_Note_Form_IO.ipynb to create an OOP version of the program using three classes.\n",
    "\n",
    "    A Notebook or MainWindow class\n",
    "    A Form or TopWindow class\n",
    "    A Note class\n",
    "\n",
    "The MainWindow class is a subclass of Tkinter’s tk.Tk class and thus inherits its attributes and methods, while allowing us to customize the new window objects to our needs. These new window objects will represent “notebooks” or collections of notes, and allow us to work with those notes. (I have named it MainWindow because this class definition could be used to create any kind of main window in Tkinter. We are using it to represent notebooks in this application, but you might use it for other purposes in onther applications.)\n"
   ]
  },
  {
   "cell_type": "markdown",
   "id": "67692272",
   "metadata": {},
   "source": [
    "The TopWindow class creates a new top window in Tkinter, which is essentially a form for entering the title, text, links, and tags for our note. When we submit the note, this “form” object has a method that creates the note’s metadata and a new Note object. That note object is appended to the list of all notes, which is an attribute of the notebook (MainWindow) class.\n",
    "The Note class creates note objects that contain the  title, text, links, tags, and metadata for each note.\n",
    "\n",
    "For Project 02 you will:  \n",
    "\n",
    "    1. Create one notebook or MainWindow object  \n",
    "    2. Create several (at least 3) ‘real’ notes for your final submission. By ‘real’ I mean actual notes about python that are useful to you. Print them in the cell at the bottom of the notebook.\n",
    "    3. Save those notes to a single .txt, .csv, or .json file (your choice of format).  \n",
    "    4. Retrieve those notes and \n",
    "    5. Display representations of them as either labels or buttons in the  main window (remember how we displayed cards in project 01). These representations are not whole notes. Rather, they are object representations of the notes.  \n",
    "    6. When they are clicked the whole note pops up in a new window - either the form window or a ‘read-only’ version of the form window.\n",
    "\n"
   ]
  },
  {
   "cell_type": "markdown",
   "id": "cd7630c0",
   "metadata": {},
   "source": [
    "#### Complete your code in the cell below"
   ]
  },
  {
   "cell_type": "markdown",
   "id": "50f0a965",
   "metadata": {},
   "source": [
    "The code cell below contains the imports you will need; the top level structure for the three classes to get you started; and the execution code at the bottom. "
   ]
  },
  {
   "cell_type": "code",
   "execution_count": 11,
   "id": "57954c28",
   "metadata": {},
   "outputs": [],
   "source": [
    "# imports\n",
##good use of tkinter
    "import tkinter as tk\n",
    "from tkinter import ttk\n",
    "import datetime # one module for working with dates and times\n",
    "\n",
    "# The MainWindow class creates a custom GUI window based on the tkinter window (tk.Tk)\n",
    "# It has an __init__() method, and three additional methods (new_note(), open_notebook(), and save_notebook())\n",
    "# These methods correspond to new, open, and save buttons in the window.\n",
    "# The new_note method calls the NoteForm class to create a new note form top level window.\n",
    "\n",
    "class MainWindow(tk.Tk):\n",
    "    def __init__(self):  #initialize the main window\n",
    "        super().__init__() # initialize it as a tkinter window\n",
    "        \n",
    "        self.geometry(\"600x400\")\n",
    "        self.title('Notebook')\n",
    "        self.notebook = []\n",
    "        self.notes = []\n",
    "\n",
    "        self.note_frame = ttk.Frame(self)\n",
    "        self.note_frame.pack(fill=tk.BOTH, expand=True)\n",
    "\n",
    "        # Creating a canvas within the note frame\n",
    "        self.note_frame_canvas = tk.Canvas(self.note_frame)\n",
    "        self.note_frame_canvas.pack(side=tk.LEFT, fill=tk.BOTH, expand=True)\n",
    "        \n",
    "         # Attaching a scrollbar to the canvas\n",
    "        self.scrollbar = ttk.Scrollbar(self.note_frame, orient=\"vertical\", command=self.note_frame_canvas.yview)\n",
    "        self.scrollbar.pack(side=tk.RIGHT, fill=tk.Y)\n",
    "\n",
    "        #Scrollbar becoomes usable\n",
    "        self.note_frame_canvas.configure(yscrollcommand=self.scrollbar.set)\n",
    "        \n",
    "         # Creatung an inner frame within the canvas\n",
    "        self.inner_frame = ttk.Frame(self.note_frame_canvas)\n",
    "        self.note_frame_canvas.create_window((0, 0), window=self.inner_frame, anchor='nw')\n",
    "\n",
    "        #Note buttons\n",
    "        for note in [\"Python does not count spacing within the code, so emphasize readability.\",\n",
    "                     \"Python has accessible data libraries to practice data science techniques.\",\n",
    "                     \"There are plenty of open-source tools to help further Python development.\"]:\n",
    "            button = ttk.Button(self.inner_frame, text=note, command=lambda n=note: self.display_full_note(n))\n",
    "            button.pack(fill=tk.X, padx=5, pady=5)\n",
    "        \n",
    "    def new_note(self):\n",
    "        note_window = NoteForm(self, self.notebook, self.notes)\n",
    "        return None\n",
    "\n",
    "    def open_notebook(self):\n",
    "        print('open notebook') # replace with the code you need to open the notebook and display the notes\n",
    "        return None\n",
    "\n",
    "    def save_notebook(self):\n",
    "        print('save notebook') # replace with the code needed to save the notebook\n",
    "        return None\n",
    "\n",
    "\n",
    "# the NoteForm() class creates a Toplevel window that is a note form containing fields for\n",
    "# data entry for title, text, link, and tags. It also calculates a meta field with date, time, and timezone\n",
    "# the Noteform class has an __init__() method, and a submit() method that is called by a submit button\n",
    "# the class may contain additional methods to perform tasks like calculating the metadata, for example\n",
    "# the submit method calls the MakeNote class that transforms the the entered data into a new note object.\n",
    "\n",
    "class NoteForm(tk.Toplevel):\n",
    "    \n",
    "    def __init__(self, master, notebook, notes): # initialize the new object\n",
    "        super().__init__(master) # initialize it as a toplevel window\n",
    "\n",
    "        self.title(\"Note\")\n",
    "\n",
    "        self.notebook = notebook\n",
    "        self.notes = notes\n",
    "        \n",
    "        #Note Title Field\n",
    "        self.title_label = ttk.Label(self, text=\"Title:\")\n",
    "        self.title_label.grid(row=0, column=0, padx=5, pady=5)\n",
    "        self.title_entry = ttk.Entry(self)\n",
    "        self.title_entry.grid(row=0, column=1, padx=5, pady=5)\n",
    "\n",
    "        #Note Text Field\n",
    "        self.text_label = ttk.Label(self, text=\"Text:\")\n",
    "        self.text_label.grid(row=1, column=0, padx=5, pady=5)\n",
    "        self.text_entry = tk.Text(self, height=5)\n",
    "        self.text_entry.grid(row=1, column=1, padx=5, pady=5)\n",
    "\n",
    "        #Note Links Field\n",
    "        self.links_label = ttk.Label(self, text=\"Links:\")\n",
    "        self.links_label.grid(row=2, column=0, padx=5, pady=5)\n",
    "        self.links_entry = ttk.Entry(self)\n",
    "        self.links_entry.grid(row=2, column=1, padx=5, pady=5)\n",
    "\n",
    "        #Note Tags Field\n",
    "        self.tags_label = ttk.Label(self, text=\"Tags:\")\n",
    "        self.tags_label.grid(row=3, column=0, padx=5, pady=5)\n",
    "        self.tags_entry = ttk.Entry(self)\n",
    "        self.tags_entry.grid(row=3, column=1, padx=5, pady=5)\n",
    "\n",
    "        #Note Submit Field\n",
    "        self.submit_button = ttk.Button(self, text=\"Submit\", command=self.submit)\n",
    "        self.submit_button.grid(row=4, column=1, padx=5, pady=5)\n",
    "\n",
    "        \n",
    "    def submit(self):\n",
    "        # add lines to the submit method\n",
    "        \n",
    "        new_note = MakeNote(note_dict)\n",
    "        self.notes.append(new_note)\n",
    "        print(self.notes)\n",
    "        return None\n",
    "\n",
    "    \n",
    "# The MakeNote class takes a dictionary containing the data entered into the form window,\n",
    "# and transforms it into a new note object.\n",
    "# At present the note objects have attributes but no methods.\n",
    "\n",
#Good Class Creations with good titles
    "class MakeNote():\n",
    "    def __init__(self, note_dict):\n",
    "        self.title = note_dict[\"title\"]\n",
    "        self.text = note_dict[\"text\"]\n",
    "        self.links = note_dict[\"links\"]\n",
    "        self.tags = note_dict[\"tags\"]\n",
    "        self.created_at = note_dict[\"created_at\"]\n",
    "    \n",
    "\n",
    "\n",
    "# main execution\n",
    "\n",
    "if __name__ == '__main__':\n",
    "    \n",
    "    main_window = MainWindow() # this creates a notebook / main window called main_window. You may change the name if you want\n",
    "\n",
    "    main_window.mainloop()"
   ]
  },
  {
   "cell_type": "markdown",
   "id": "c50d5149",
   "metadata": {},
   "source": [
    "#### Print your three notes below"
   ]
  },
  {
   "cell_type": "code",
   "execution_count": null,
   "id": "dd1811bf",
   "metadata": {},
   "outputs": [],
   "source": [
    "\"Python does not count spacing within the code, so emphasize readability.\"\n",
    "\n",
    "\"Python has accessible data libraries to practice data science techniques.\"\n",
    "\n",
    "\"There are plenty of open-source tools to help further Python development.\""
   ]
  }
 ],
 "metadata": {
  "kernelspec": {
   "display_name": "Python 3 (ipykernel)",
   "language": "python",
   "name": "python3"
  },
  "language_info": {
   "codemirror_mode": {
    "name": "ipython",
    "version": 3
   },
   "file_extension": ".py",
   "mimetype": "text/x-python",
   "name": "python",
   "nbconvert_exporter": "python",
   "pygments_lexer": "ipython3",
   "version": "3.11.5"
  }
 },
 "nbformat": 4,
 "nbformat_minor": 5
}


##Dranel Jiles edited
